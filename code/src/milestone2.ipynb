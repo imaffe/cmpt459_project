{
 "cells": [
  {
   "cell_type": "code",
   "execution_count": null,
   "metadata": {
    "collapsed": true
   },
   "outputs": [],
   "source": [
    "import pandas as pd\n",
    "import numpy as np\n",
    "from sklearn import ensemble\n",
    "from sklearn import preprocessing\n",
    "from sklearn import compose\n",
    "from sklearn import pipeline\n",
    "from sklearn import model_selection\n",
    "from sklearn import metrics\n",
    "import matplotlib.pyplot as plt\n",
    "import pickle"
   ]
  },
  {
   "cell_type": "code",
   "execution_count": null,
   "outputs": [],
   "source": [
    "import sklearn\n",
    "sklearn.__version__"
   ],
   "metadata": {
    "collapsed": false,
    "pycharm": {
     "name": "#%%\n"
    }
   }
  },
  {
   "cell_type": "code",
   "execution_count": null,
   "outputs": [],
   "source": [
    "def train_with_estimator(n):\n",
    "    df = pd.read_csv('../data/joined_cases_train.csv')\n",
    "    df = df.drop([\"latitude\", \"longitude\", \"Combined_Key\", \"country\"], axis=1)\n",
    "    y = df.pop('outcome')\n",
    "    x = df\n",
    "\n",
    "\n",
    "    X_train, X_test, Y_train, Y_test = model_selection.train_test_split(x, y, test_size=0.2, random_state=0)\n",
    "    rf1 = ensemble.RandomForestClassifier(\n",
    "        n_estimators=100,\n",
    "        criterion=\"gini\",\n",
    "        max_depth=None,\n",
    "        min_samples_split=2,\n",
    "        min_samples_leaf=1,\n",
    "        min_weight_fraction_leaf=0.0,\n",
    "        max_features=\"auto\",\n",
    "        max_leaf_nodes=None,\n",
    "        min_impurity_split=None,\n",
    "        bootstrap=True,\n",
    "    )\n",
    "\n",
    "    onehot_encoder = preprocessing.OneHotEncoder()\n",
    "    onehot_encoder.fit_transform(df[['sex']])\n",
    "\n",
    "\n",
    "    column_trans = compose.make_column_transformer(\n",
    "        (preprocessing.OneHotEncoder(), ['sex']),\n",
    "        remainder='passthrough'\n",
    "    )\n",
    "\n",
    "    column_trans.fit_transform(df)\n",
    "\n",
    "    pipe1 = pipeline.make_pipeline(column_trans, rf1)\n",
    "\n",
    "\n",
    "    #%%\n",
    "\n",
    "    pipe1.fit(X_train, Y_train)\n",
    "    file_path = \"../models/random_forest_classifier.pkl\"\n",
    "    with open(file_path, 'wb') as fid:\n",
    "        pickle.dump(pipe1, fid)\n",
    "\n",
    "\n",
    "    pipe1 = pickle.load(open(file_path, 'rb'))\n",
    "\n",
    "\n",
    "\n",
    "    #%%\n",
    "\n",
    "    rocs = {label: [] for label in y.unique()}\n",
    "\n",
    "    #%%\n",
    "\n",
    "    # for label in y.unique():\n",
    "    #     pipe.fit(X_train, Y_train)\n",
    "    #     rf_probs = pipe.predict_proba(X_test)\n",
    "\n",
    "\n",
    "    rf_probs = pipe1.predict_proba(X_test)\n",
    "    rf_pred = pipe1.predict(X_test)\n",
    "\n",
    "    rf_pred_train = pipe1.predict(X_train)\n",
    "\n",
    "\n",
    "    #%%\n",
    "\n",
    "    rf_auc = metrics.roc_auc_score(Y_test, rf_probs, multi_class='ovr')\n",
    "    print('Random Forest AUC:  %.3f' % (rf_auc))\n",
    "\n",
    "    n_classes = 4\n",
    "    fpr = dict()\n",
    "    tpr = dict()\n",
    "    roc_auc = dict()\n",
    "    L = [\"deceased\",\"hospitalized\",\"nonhospitalized\",\"recovered\"]\n",
    "    binarized_y = preprocessing.label_binarize(Y_test, classes=[\"deceased\",\"hospitalized\",\"nonhospitalized\",\"recovered\"])\n",
    "    for i in range(n_classes):\n",
    "        fpr[i], tpr[i], _ = metrics.roc_curve(binarized_y[:, i], rf_probs[:, i])\n",
    "        roc_auc[i] = metrics.auc(fpr[i], tpr[i])\n",
    "\n",
    "        plt.plot(fpr[i], tpr[i], label='ROC curve (area = %0.2f)' % roc_auc[i])\n",
    "    plt.legend(L)\n",
    "    #%%\n",
    "    print(\"Result on the test data\")\n",
    "    print(metrics.confusion_matrix(Y_test, rf_pred))\n",
    "    print(metrics.classification_report(Y_test, rf_pred, digits=3))\n",
    "\n",
    "    print(\"Result on the training data\")\n",
    "    print(metrics.confusion_matrix(Y_train, rf_pred_train))\n",
    "    print(metrics.classification_report(Y_train, rf_pred_train, digits=3))\n",
    "\n",
    "    #%%\n",
    "\n",
    "    # cross-validation\n",
    "\n",
    "    cross_validation_accuracy = model_selection.cross_val_score(pipe1, x, y).mean()\n",
    "    print(\"The Cross Validation accuracy is %.3f\" % (cross_validation_accuracy))"
   ],
   "metadata": {
    "collapsed": false,
    "pycharm": {
     "name": "#%%\n"
    }
   }
  },
  {
   "cell_type": "code",
   "execution_count": null,
   "outputs": [],
   "source": [
    "def detect_overfit():\n",
    "    df = pd.read_csv('../data/joined_cases_train.csv')\n",
    "    df = df.drop([\"latitude\", \"longitude\", \"Combined_Key\", \"country\"], axis=1)\n",
    "    y = df.pop('outcome')\n",
    "    x = df\n",
    "    #\n",
    "    # X_train, X_test, Y_train, Y_test = model_selection.train_test_split(x, y, test_size=0.2, random_state=0)\n",
    "\n",
    "    onehot_encoder = preprocessing.OneHotEncoder()\n",
    "    onehot_encoder.fit_transform(df[['sex']])\n",
    "\n",
    "\n",
    "    column_trans = compose.make_column_transformer(\n",
    "        (preprocessing.OneHotEncoder(), ['sex']),\n",
    "        remainder='passthrough'\n",
    "    )\n",
    "\n",
    "    x = column_trans.fit_transform(df)\n",
    "\n",
    "\n",
    "\n",
    "    parameter_range = np.arange(1, 1000, 100)\n",
    "\n",
    "    train_score, test_score = model_selection.validation_curve(ensemble.RandomForestClassifier(), x, y,\n",
    "                                       param_name = \"n_estimators\",\n",
    "                                       param_range = parameter_range,\n",
    "                                        cv = 5, scoring = \"accuracy\")\n",
    "\n",
    "\n",
    "\n",
    "    mean_train_score = np.mean(train_score, axis = 1)\n",
    "    std_train_score = np.std(train_score, axis = 1)\n",
    "    mean_test_score = np.mean(test_score, axis = 1)\n",
    "    std_test_score = np.std(test_score, axis = 1)\n",
    "    plt.plot(parameter_range, mean_train_score,\n",
    "        label = \"Training Score\", color = 'b')\n",
    "    plt.plot(parameter_range, mean_test_score,\n",
    "        label = \"Cross Validation Score\", color = 'g')\n"
   ],
   "metadata": {
    "collapsed": false,
    "pycharm": {
     "name": "#%%\n"
    }
   }
  },
  {
   "cell_type": "code",
   "execution_count": null,
   "outputs": [],
   "source": [
    "detect_overfit()"
   ],
   "metadata": {
    "collapsed": false,
    "pycharm": {
     "name": "#%%\n"
    }
   }
  },
  {
   "cell_type": "code",
   "execution_count": null,
   "outputs": [],
   "source": [
    "train_with_estimator(100)\n"
   ],
   "metadata": {
    "collapsed": false,
    "pycharm": {
     "name": "#%%\n"
    }
   }
  },
  {
   "cell_type": "code",
   "execution_count": null,
   "outputs": [],
   "source": [
    "train_with_estimator(200)"
   ],
   "metadata": {
    "collapsed": false,
    "pycharm": {
     "name": "#%%\n"
    }
   }
  },
  {
   "cell_type": "code",
   "execution_count": null,
   "outputs": [],
   "source": [
    "train_with_estimator(500)"
   ],
   "metadata": {
    "collapsed": false,
    "pycharm": {
     "name": "#%%\n"
    }
   }
  },
  {
   "cell_type": "code",
   "execution_count": null,
   "outputs": [],
   "source": [
    "train_with_estimator(1000)"
   ],
   "metadata": {
    "collapsed": false,
    "pycharm": {
     "name": "#%%\n"
    }
   }
  }
 ],
 "metadata": {
  "kernelspec": {
   "display_name": "Python 3",
   "language": "python",
   "name": "python3"
  },
  "language_info": {
   "codemirror_mode": {
    "name": "ipython",
    "version": 2
   },
   "file_extension": ".py",
   "mimetype": "text/x-python",
   "name": "python",
   "nbconvert_exporter": "python",
   "pygments_lexer": "ipython2",
   "version": "2.7.6"
  }
 },
 "nbformat": 4,
 "nbformat_minor": 0
}