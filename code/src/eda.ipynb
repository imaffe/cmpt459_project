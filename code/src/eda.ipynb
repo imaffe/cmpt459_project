{
 "cells": [
  {
   "cell_type": "code",
   "execution_count": null,
   "outputs": [],
   "source": [
    "import pandas as pd\n",
    "from helper1 import *\n"
   ],
   "metadata": {
    "collapsed": false,
    "pycharm": {
     "name": "#%%\n"
    }
   }
  },
  {
   "cell_type": "markdown",
   "source": [
    "EDA Process for Case dataset"
   ],
   "metadata": {
    "collapsed": false
   }
  },
  {
   "cell_type": "code",
   "execution_count": null,
   "outputs": [],
   "source": [
    "df = get_data_frame()\n",
    "print(\"---- Dataset -> cases_train.csv --------------------\")\n",
    "col_names, col_na = print_num_of_missing_vals(df)\n"
   ],
   "metadata": {
    "collapsed": false,
    "pycharm": {
     "name": "#%%\n"
    }
   }
  },
  {
   "cell_type": "code",
   "execution_count": null,
   "outputs": [],
   "source": [
    "plot_bargraph('Missing Values (cases_train)', 'Attributes', 'Total percentage of values missing', col_names, col_na)"
   ],
   "metadata": {
    "collapsed": false,
    "pycharm": {
     "name": "#%%\n"
    }
   }
  },
  {
   "cell_type": "code",
   "execution_count": null,
   "outputs": [],
   "source": [
    "# plot countries v/s outcome for top 5 countries\n",
    "top_5_countries = df['country'].value_counts().nlargest(5).index\n",
    "country_df = df[df['country'].isin(top_5_countries)]"
   ],
   "metadata": {
    "collapsed": false,
    "pycharm": {
     "name": "#%%\n"
    }
   }
  },
  {
   "cell_type": "code",
   "execution_count": null,
   "outputs": [],
   "source": [
    "plot_countplot(country_df, 'Top 5 Countries_vs_Outcome', 'Countries', 'Outcome', x_attribute='country',\n",
    "               hue='outcome')"
   ],
   "metadata": {
    "collapsed": false,
    "pycharm": {
     "name": "#%%\n"
    }
   }
  },
  {
   "cell_type": "code",
   "execution_count": null,
   "outputs": [],
   "source": [
    "plot_countplot(country_df, 'Top 5 Countries Frequency wise', 'Countries', 'Frequency', x_attribute='country')"
   ],
   "metadata": {
    "collapsed": false,
    "pycharm": {
     "name": "#%%\n"
    }
   }
  },
  {
   "cell_type": "code",
   "execution_count": null,
   "outputs": [],
   "source": [
    "# Plot Sex\n",
    "plot_countplot(country_df, 'Sex vs Outcome (cases_train)', 'Sex', 'Outcome', x_attribute='sex', hue='outcome')"
   ],
   "metadata": {
    "collapsed": false,
    "pycharm": {
     "name": "#%%\n"
    }
   }
  },
  {
   "cell_type": "code",
   "execution_count": null,
   "outputs": [],
   "source": [
    "# combination of longitude and latitude\n",
    "plot_scatterplot(df=df, title='Longitude and Latitude (cases_train)', x_label='Longitude', y_label='Latitude',\n",
    "                 column_x='longitude', column_y='latitude')"
   ],
   "metadata": {
    "collapsed": false,
    "pycharm": {
     "name": "#%%\n"
    }
   }
  },
  {
   "cell_type": "code",
   "execution_count": null,
   "outputs": [],
   "source": [
    "# Top 5 countries's top 3 provinces\n",
    "top_provs = []\n",
    "for c in top_5_countries:\n",
    "    temp_df = country_df[country_df['country'] == c]\n",
    "    top_states = temp_df['province'].value_counts().nlargest(5).index\n",
    "    top_provs.extend(top_states)\n",
    "top_provs_df = country_df[country_df['province'].isin(top_provs)]\n",
    "plot_countplot(top_provs_df, title='Top 3 Provinces in Top 5 countries (cases_train)',\n",
    "               x_label='Country and Provinces', y_label='Count', x_attribute='country', hue='province',\n",
    "               hue_order=top_provs, class_order=top_5_countries)"
   ],
   "metadata": {
    "collapsed": false,
    "pycharm": {
     "name": "#%%\n"
    }
   }
  },
  {
   "cell_type": "code",
   "execution_count": null,
   "outputs": [],
   "source": [
    "# plot age frequency\n",
    "isDigit_age_df = df[df['age'].notna()]\n",
    "isDigit_age_df = isDigit_age_df.loc[isDigit_age_df['age'].str.isdigit()]\n",
    "isDigit_age_df = isDigit_age_df.sort_values(by='age')\n",
    "plot_countplot(df=isDigit_age_df, title='Age Frequency (cases_train)', x_label='Age', y_label='Frequency',\n",
    "               x_attribute='age', width=25, class_order=isDigit_age_df['age'])"
   ],
   "metadata": {
    "collapsed": false,
    "pycharm": {
     "name": "#%%\n"
    }
   }
  },
  {
   "cell_type": "code",
   "execution_count": null,
   "outputs": [],
   "source": [
    "# plot month frequency\n",
    "df['date_confirmation'] = pd.to_datetime(df['date_confirmation'], errors='coerce')\n",
    "df = df[df['date_confirmation'].notna()]\n",
    "df_f = df.loc[df['date_confirmation'].dt.year.between(2020, 2020)]\n",
    "month_names = ['Jan', 'Feb', 'Mar', 'Apr', 'May', 'Jun', 'Jul', 'Aug', 'Sep', 'Oct', 'Nov', 'dec']\n",
    "month_counts = []\n",
    "for month in range(1, 13):\n",
    "    count = len(df.loc[df['date_confirmation'].dt.month.between(month, month)])\n",
    "    month_counts.append(count)\n",
    "plot_bargraph(title='Month Frequency (cases_train)', x_label='Month', y_label='Frequency', x_attribute=month_names,\n",
    "              y_attribute=month_counts)"
   ],
   "metadata": {
    "collapsed": false,
    "pycharm": {
     "name": "#%%\n"
    }
   }
  },
  {
   "cell_type": "markdown",
   "source": [
    "EDA Process for Location dataset"
   ],
   "metadata": {
    "collapsed": false
   }
  },
  {
   "cell_type": "code",
   "execution_count": null,
   "outputs": [],
   "source": [
    "location_df = get_data_frame('location')\n",
    "print(\"---- Dataset -> location.csv --------------------\")\n",
    "col_names, col_na = print_num_of_missing_vals(location_df)"
   ],
   "metadata": {
    "collapsed": false,
    "pycharm": {
     "name": "#%%\n"
    }
   }
  },
  {
   "cell_type": "code",
   "execution_count": null,
   "outputs": [],
   "source": [
    "# Attribute missing values\n",
    "plot_bargraph('Missing Values (location)', 'Attributes', 'Total percentage of values missing', col_names, col_na)"
   ],
   "metadata": {
    "collapsed": false,
    "pycharm": {
     "name": "#%%\n"
    }
   }
  },
  {
   "cell_type": "code",
   "execution_count": null,
   "outputs": [],
   "source": [
    "# combination of longitude and latitude\n",
    "plot_scatterplot(df=location_df, title='Longitude and Latitude (location)', x_label='Longitude', y_label='Latitude',\n",
    "                 column_x='Long_', column_y='Lat')"
   ],
   "metadata": {
    "collapsed": false,
    "pycharm": {
     "name": "#%%\n"
    }
   }
  },
  {
   "cell_type": "code",
   "execution_count": null,
   "outputs": [],
   "source": [
    "# Top 10 countries with max confirmed cases\n",
    "top_10_countries_confirmed = location_df.groupby(['Country_Region'])['Confirmed'].sum().sort_values(\n",
    "    ascending=False).nlargest(10)\n",
    "plot_bargraph(title='Top 10 Confirmed cases countries (location)', x_label='Country',\n",
    "              y_label='# of Confirmed cases', x_attribute=top_10_countries_confirmed.index,\n",
    "              y_attribute=top_10_countries_confirmed.values)"
   ],
   "metadata": {
    "collapsed": false,
    "pycharm": {
     "name": "#%%\n"
    }
   }
  },
  {
   "cell_type": "code",
   "execution_count": null,
   "outputs": [],
   "source": [
    "# Top 10 countries with max Deaths\n",
    "top_10_countries_confirmed = location_df.groupby(['Country_Region'])['Deaths'].sum().sort_values(ascending=False).nlargest(\n",
    "    10)\n",
    "plot_bargraph(title='Top 10 Deaths cases countries (location)', x_label='Country', y_label='# of Deaths',\n",
    "              x_attribute=top_10_countries_confirmed.index, y_attribute=top_10_countries_confirmed.values)"
   ],
   "metadata": {
    "collapsed": false,
    "pycharm": {
     "name": "#%%\n"
    }
   }
  },
  {
   "cell_type": "code",
   "execution_count": null,
   "outputs": [],
   "source": [
    "# Top 10 countries with max Recovered cases\n",
    "top_10_countries_confirmed = location_df.groupby(['Country_Region'])['Recovered'].sum().sort_values(\n",
    "    ascending=False).nlargest(10)\n",
    "plot_bargraph(title='Top 10 Recovered cases countries (location)', x_label='Country',\n",
    "              y_label='# of Recovered cases', x_attribute=top_10_countries_confirmed.index,\n",
    "              y_attribute=top_10_countries_confirmed.values)"
   ],
   "metadata": {
    "collapsed": false,
    "pycharm": {
     "name": "#%%\n"
    }
   }
  },
  {
   "cell_type": "code",
   "execution_count": null,
   "outputs": [],
   "source": [
    "# Top 10 countries with max Active cases\n",
    "top_10_countries_confirmed = location_df.groupby(['Country_Region'])['Active'].sum().sort_values(ascending=False).nlargest(\n",
    "    10)\n",
    "plot_bargraph(title='Top 10 Active cases countries (location)', x_label='Country', y_label='# of Active cases',\n",
    "              x_attribute=top_10_countries_confirmed.index, y_attribute=top_10_countries_confirmed.values)\n"
   ],
   "metadata": {
    "collapsed": false,
    "pycharm": {
     "name": "#%%\n"
    }
   }
  },
  {
   "cell_type": "code",
   "execution_count": null,
   "outputs": [],
   "source": [
    "# Top 10 frequent countries\n",
    "top_10_countries = location_df['Country_Region'].value_counts().nlargest(10)\n",
    "plot_bargraph(title='Top 10 Most Frequent countries (location)', x_label='Countries', y_label='Frequency',\n",
    "              x_attribute=top_10_countries.index, y_attribute=top_10_countries.values)\n"
   ],
   "metadata": {
    "collapsed": false,
    "pycharm": {
     "name": "#%%\n"
    }
   }
  },
  {
   "cell_type": "code",
   "execution_count": null,
   "outputs": [],
   "source": [
    "# Top 10 frequent countries top 3 frequent provinces\n",
    "top_countries_df = location_df[location_df['Country_Region'].isin(top_10_countries.index)]\n",
    "top_provs = []\n",
    "for c in top_10_countries.index:\n",
    "    temp = top_countries_df[top_countries_df['Country_Region'] == c]\n",
    "    provs = temp['Province_State'].value_counts().nlargest(3).index\n",
    "    top_provs.extend(provs)\n",
    "top_provs_df = location_df[location_df[\"Province_State\"].isin(top_provs)]\n",
    "plot_countplot(df=top_provs_df, title='Top Countries\"s Top 3 provinces (location)', x_label='Countries',\n",
    "               y_label='Frequency', x_attribute='Country_Region', hue='Province_State', hue_order=top_provs,\n",
    "               class_order=top_10_countries.index)"
   ],
   "metadata": {
    "collapsed": false,
    "pycharm": {
     "name": "#%%\n"
    }
   }
  },
  {
   "cell_type": "code",
   "execution_count": null,
   "outputs": [],
   "source": [
    "# top incidence rate regions\n",
    "top_incidence = location_df.sort_values(by='Incidence_Rate', ascending=False).head(5)\n",
    "plot_bargraph(title='Top 5 Incidence Rate regions (location)', x_label='Region', y_label='Incidence rate',\n",
    "              x_attribute=top_incidence['Combined_Key'],\n",
    "              y_attribute=[float(i) for i in top_incidence['Incidence_Rate']])"
   ],
   "metadata": {
    "collapsed": false,
    "pycharm": {
     "name": "#%%\n"
    }
   }
  },
  {
   "cell_type": "code",
   "execution_count": null,
   "outputs": [],
   "source": [
    "# top case fatility rate regions\n",
    "top_incidence = location_df.sort_values(by='Case-Fatality_Ratio', ascending=False).head(5)\n",
    "plot_bargraph(title='Top 5 Case Fatility Rate regions (location)', x_label='Region',\n",
    "              y_label='Case Fatality Ratio rate', x_attribute=top_incidence['Combined_Key'],\n",
    "              y_attribute=[float(i) for i in top_incidence['Case-Fatality_Ratio']])\n",
    "\n"
   ],
   "metadata": {
    "collapsed": false,
    "pycharm": {
     "name": "#%%\n"
    }
   }
  }
 ],
 "metadata": {
  "kernelspec": {
   "display_name": "Python 3",
   "language": "python",
   "name": "python3"
  },
  "language_info": {
   "codemirror_mode": {
    "name": "ipython",
    "version": 2
   },
   "file_extension": ".py",
   "mimetype": "text/x-python",
   "name": "python",
   "nbconvert_exporter": "python",
   "pygments_lexer": "ipython2",
   "version": "2.7.6"
  }
 },
 "nbformat": 4,
 "nbformat_minor": 0
}