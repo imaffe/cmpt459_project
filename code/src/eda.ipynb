{
 "cells": [
  {
   "cell_type": "code",
   "execution_count": 236,
   "metadata": {
    "collapsed": true
   },
   "outputs": [],
   "source": [
    "import pandas as pd\n",
    "import os\n",
    "import numpy as np\n",
    "import random"
   ]
  },
  {
   "cell_type": "code",
   "execution_count": 237,
   "outputs": [],
   "source": [
    "train_data = pd.read_csv('../data/cases_train.csv')\n",
    "location_data = pd.read_csv('../data/location.csv')\n",
    "test_data = pd.read_csv('../data/cases_test.csv')\n",
    "\n",
    "\n"
   ],
   "metadata": {
    "collapsed": false,
    "pycharm": {
     "name": "#%%\n"
    }
   }
  },
  {
   "cell_type": "code",
   "execution_count": 238,
   "outputs": [
    {
     "data": {
      "text/plain": "age                        object\nsex                        object\nprovince                   object\ncountry                    object\nlatitude                  float64\nlongitude                 float64\ndate_confirmation          object\nadditional_information     object\nsource                     object\noutcome                    object\ndtype: object"
     },
     "execution_count": 238,
     "metadata": {},
     "output_type": "execute_result"
    }
   ],
   "source": [
    "train_data.dtypes"
   ],
   "metadata": {
    "collapsed": false,
    "pycharm": {
     "name": "#%%\n"
    }
   }
  },
  {
   "cell_type": "code",
   "execution_count": 239,
   "outputs": [
    {
     "name": "stdout",
     "output_type": "stream",
     "text": [
      "10\n",
      "10\n",
      "10\n",
      "0\n",
      "0\n",
      "0\n"
     ]
    }
   ],
   "source": [
    "def transform_age(s):\n",
    "    age_str = str(s)\n",
    "\n",
    "    for i, ch in enumerate(age_str):\n",
    "        if not ch.isdigit():\n",
    "            if age_str[i+1:].startswith('m') or age_str[i+1:].startswith('M'):\n",
    "                return 0\n",
    "            else:\n",
    "                return int(age_str[:i])\n",
    "    return int(age_str)\n",
    "\n",
    "\n",
    "age1 = transform_age(\"10+\")\n",
    "age2 = transform_age(\"10 - 25\")\n",
    "age3 = transform_age(\"10-25\")\n",
    "age4 = transform_age(\"10 month\")\n",
    "age5 = transform_age(\"10 months\")\n",
    "age6 = transform_age(\"10 Month\")\n",
    "print(age1)\n",
    "print(age2)\n",
    "print(age3)\n",
    "print(age4)\n",
    "print(age5)\n",
    "print(age6)"
   ],
   "metadata": {
    "collapsed": false,
    "pycharm": {
     "name": "#%%\n"
    }
   }
  },
  {
   "cell_type": "code",
   "execution_count": 240,
   "outputs": [],
   "source": [
    "\n",
    "# preprocess : clean the age column\n",
    "train_data['age'] = train_data['age'].apply(lambda x: transform_age(x) if np.all(pd.notnull(x)) else x)\n",
    "\n"
   ],
   "metadata": {
    "collapsed": false,
    "pycharm": {
     "name": "#%%\n"
    }
   }
  },
  {
   "cell_type": "code",
   "execution_count": 241,
   "outputs": [
    {
     "name": "stdout",
     "output_type": "stream",
     "text": [
      "===== BEFORE FILLING MISSING VALUE === \n"
     ]
    }
   ],
   "source": [
    "print(\"===== BEFORE FILLING MISSING VALUE === \")\n",
    "train_data.isnull().sum().sort_values(ascending = False)\n",
    "# drop some columns\n",
    "DROP_COLUMNS = [ 'additional_information', 'source']\n",
    "train_data.drop(DROP_COLUMNS, axis=1, inplace=True)\n",
    "\n",
    "# use the average value as the prediction value\n",
    "AVERAGE_COLUMNS = ['age']\n",
    "\n",
    "for column in AVERAGE_COLUMNS:\n",
    "    mean_val = train_data[column].mean()\n",
    "    train_data[column].fillna(mean_val, inplace=True)\n",
    "\n",
    "\n",
    "# fill sex columns using a random value\n",
    "SEX_CHOICE = [\"male\", \"female\"]\n",
    "SEX_WEIGHTS = [0.55, 0.45]\n",
    "#train_data['sex'].fillna(, inplace=True)\n",
    "def generate_sex():\n",
    "    return random.choices(SEX_CHOICE, SEX_WEIGHTS)[0]\n",
    "train_data['sex'] = train_data['sex'].apply(lambda x: x if np.all(pd.notnull(x)) else generate_sex())\n"
   ],
   "metadata": {
    "collapsed": false,
    "pycharm": {
     "name": "#%%\n"
    }
   }
  },
  {
   "cell_type": "code",
   "execution_count": 242,
   "outputs": [
    {
     "name": "stdout",
     "output_type": "stream",
     "text": [
      "10.03.2020\n"
     ]
    }
   ],
   "source": [
    "# datetime\n",
    "def transform_datetime(date_str):\n",
    "    for i, ch in enumerate(date_str):\n",
    "        if ch == '-':\n",
    "            return date_str[:i]\n",
    "    return date_str\n",
    "\n",
    "\n",
    "date1 = transform_datetime(\"10.03.2020-13.03.2020\")\n",
    "print(date1)"
   ],
   "metadata": {
    "collapsed": false,
    "pycharm": {
     "name": "#%%\n"
    }
   }
  },
  {
   "cell_type": "code",
   "execution_count": 243,
   "outputs": [],
   "source": [
    "train_data['date_confirmation'] = train_data['date_confirmation'].apply(lambda x: transform_datetime(x) if np.all(pd.notnull(x)) else x)\n",
    "train_data['date_confirmation'] = pd.DatetimeIndex(train_data['date_confirmation']).month\n"
   ],
   "metadata": {
    "collapsed": false,
    "pycharm": {
     "name": "#%%\n"
    }
   }
  },
  {
   "cell_type": "code",
   "execution_count": 244,
   "outputs": [],
   "source": [
    "# check the result\n",
    "DROPNA_COLUMNS = ['date_confirmation', 'country']\n",
    "\n",
    "train_data.dropna(subset=DROPNA_COLUMNS, inplace=True)"
   ],
   "metadata": {
    "collapsed": false,
    "pycharm": {
     "name": "#%%\n"
    }
   }
  },
  {
   "cell_type": "code",
   "execution_count": 245,
   "outputs": [
    {
     "data": {
      "text/plain": "province             4082\noutcome                 0\ndate_confirmation       0\nlongitude               0\nlatitude                0\ncountry                 0\nsex                     0\nage                     0\ndtype: int64"
     },
     "execution_count": 245,
     "metadata": {},
     "output_type": "execute_result"
    }
   ],
   "source": [
    "# after dropna\n",
    "train_data.isnull().sum().sort_values(ascending = False)"
   ],
   "metadata": {
    "collapsed": false,
    "pycharm": {
     "name": "#%%\n"
    }
   }
  },
  {
   "cell_type": "code",
   "execution_count": 246,
   "outputs": [
    {
     "data": {
      "text/plain": "  Province_State Country_Region          Last_Update       Lat      Long_  \\\n0            NaN    Afghanistan  2020-09-20 04:22:56  33.93911  67.709953   \n1            NaN        Albania  2020-09-20 04:22:56  41.15330  20.168300   \n2            NaN        Algeria  2020-09-20 04:22:56  28.03390   1.659600   \n3            NaN        Andorra  2020-09-20 04:22:56  42.50630   1.521800   \n4            NaN         Angola  2020-09-20 04:22:56 -11.20270  17.873900   \n\n   Confirmed  Deaths  Recovered   Active Combined_Key  Incidence_Rate  \\\n0      38919    1437      32576   4906.0  Afghanistan       99.976005   \n1      12226     358       6888   4980.0      Albania      424.838418   \n2      49623    1665      34923  13035.0      Algeria      113.162645   \n3       1564      53       1164    347.0      Andorra     2024.202420   \n4       3901     147       1445   2309.0       Angola       11.869312   \n\n   Case-Fatality_Ratio  \n0             3.692284  \n1             2.928186  \n2             3.355299  \n3             3.388747  \n4             3.768265  ",
      "text/html": "<div>\n<style scoped>\n    .dataframe tbody tr th:only-of-type {\n        vertical-align: middle;\n    }\n\n    .dataframe tbody tr th {\n        vertical-align: top;\n    }\n\n    .dataframe thead th {\n        text-align: right;\n    }\n</style>\n<table border=\"1\" class=\"dataframe\">\n  <thead>\n    <tr style=\"text-align: right;\">\n      <th></th>\n      <th>Province_State</th>\n      <th>Country_Region</th>\n      <th>Last_Update</th>\n      <th>Lat</th>\n      <th>Long_</th>\n      <th>Confirmed</th>\n      <th>Deaths</th>\n      <th>Recovered</th>\n      <th>Active</th>\n      <th>Combined_Key</th>\n      <th>Incidence_Rate</th>\n      <th>Case-Fatality_Ratio</th>\n    </tr>\n  </thead>\n  <tbody>\n    <tr>\n      <th>0</th>\n      <td>NaN</td>\n      <td>Afghanistan</td>\n      <td>2020-09-20 04:22:56</td>\n      <td>33.93911</td>\n      <td>67.709953</td>\n      <td>38919</td>\n      <td>1437</td>\n      <td>32576</td>\n      <td>4906.0</td>\n      <td>Afghanistan</td>\n      <td>99.976005</td>\n      <td>3.692284</td>\n    </tr>\n    <tr>\n      <th>1</th>\n      <td>NaN</td>\n      <td>Albania</td>\n      <td>2020-09-20 04:22:56</td>\n      <td>41.15330</td>\n      <td>20.168300</td>\n      <td>12226</td>\n      <td>358</td>\n      <td>6888</td>\n      <td>4980.0</td>\n      <td>Albania</td>\n      <td>424.838418</td>\n      <td>2.928186</td>\n    </tr>\n    <tr>\n      <th>2</th>\n      <td>NaN</td>\n      <td>Algeria</td>\n      <td>2020-09-20 04:22:56</td>\n      <td>28.03390</td>\n      <td>1.659600</td>\n      <td>49623</td>\n      <td>1665</td>\n      <td>34923</td>\n      <td>13035.0</td>\n      <td>Algeria</td>\n      <td>113.162645</td>\n      <td>3.355299</td>\n    </tr>\n    <tr>\n      <th>3</th>\n      <td>NaN</td>\n      <td>Andorra</td>\n      <td>2020-09-20 04:22:56</td>\n      <td>42.50630</td>\n      <td>1.521800</td>\n      <td>1564</td>\n      <td>53</td>\n      <td>1164</td>\n      <td>347.0</td>\n      <td>Andorra</td>\n      <td>2024.202420</td>\n      <td>3.388747</td>\n    </tr>\n    <tr>\n      <th>4</th>\n      <td>NaN</td>\n      <td>Angola</td>\n      <td>2020-09-20 04:22:56</td>\n      <td>-11.20270</td>\n      <td>17.873900</td>\n      <td>3901</td>\n      <td>147</td>\n      <td>1445</td>\n      <td>2309.0</td>\n      <td>Angola</td>\n      <td>11.869312</td>\n      <td>3.768265</td>\n    </tr>\n  </tbody>\n</table>\n</div>"
     },
     "execution_count": 246,
     "metadata": {},
     "output_type": "execute_result"
    }
   ],
   "source": [
    "location_data.head(5)"
   ],
   "metadata": {
    "collapsed": false,
    "pycharm": {
     "name": "#%%\n"
    }
   }
  },
  {
   "cell_type": "code",
   "execution_count": 247,
   "outputs": [
    {
     "data": {
      "text/plain": "        Province_State Country_Region  Confirmed  Deaths  Recovered   Active  \\\n0              Abruzzo          Italy       4137     474       2984    679.0   \n1                 Acre         Brazil      27061     648      24298   2115.0   \n2      Adygea Republic         Russia       3775      31       3253    491.0   \n3       Aguascalientes         Mexico       6581     555       5783    243.0   \n4                Aichi          Japan       5077      79       4554    444.0   \n..                 ...            ...        ...     ...        ...      ...   \n569  Zaporizhia Oblast        Ukraine       2829      42       1075   1712.0   \n570            Zeeland    Netherlands       1210      72          0   1138.0   \n571           Zhejiang          China       1282       1       1272      9.0   \n572    Zhytomyr Oblast        Ukraine       4931      90       2379   2462.0   \n573       Zuid-Holland    Netherlands      26644    1364          0  25280.0   \n\n     Incidence_Rate  Case-Fatality_Ratio  \n0        315.421095            11.457578  \n1       3068.366716             2.394590  \n2        832.642222             0.821192  \n3        458.722950             8.433369  \n4         67.225097             1.556037  \n..              ...                  ...  \n569      165.842437             1.484624  \n570      315.524866             5.950413  \n571        2.234617             0.078003  \n572      404.116398             1.825188  \n573      718.419628             5.119351  \n\n[574 rows x 8 columns]",
      "text/html": "<div>\n<style scoped>\n    .dataframe tbody tr th:only-of-type {\n        vertical-align: middle;\n    }\n\n    .dataframe tbody tr th {\n        vertical-align: top;\n    }\n\n    .dataframe thead th {\n        text-align: right;\n    }\n</style>\n<table border=\"1\" class=\"dataframe\">\n  <thead>\n    <tr style=\"text-align: right;\">\n      <th></th>\n      <th>Province_State</th>\n      <th>Country_Region</th>\n      <th>Confirmed</th>\n      <th>Deaths</th>\n      <th>Recovered</th>\n      <th>Active</th>\n      <th>Incidence_Rate</th>\n      <th>Case-Fatality_Ratio</th>\n    </tr>\n  </thead>\n  <tbody>\n    <tr>\n      <th>0</th>\n      <td>Abruzzo</td>\n      <td>Italy</td>\n      <td>4137</td>\n      <td>474</td>\n      <td>2984</td>\n      <td>679.0</td>\n      <td>315.421095</td>\n      <td>11.457578</td>\n    </tr>\n    <tr>\n      <th>1</th>\n      <td>Acre</td>\n      <td>Brazil</td>\n      <td>27061</td>\n      <td>648</td>\n      <td>24298</td>\n      <td>2115.0</td>\n      <td>3068.366716</td>\n      <td>2.394590</td>\n    </tr>\n    <tr>\n      <th>2</th>\n      <td>Adygea Republic</td>\n      <td>Russia</td>\n      <td>3775</td>\n      <td>31</td>\n      <td>3253</td>\n      <td>491.0</td>\n      <td>832.642222</td>\n      <td>0.821192</td>\n    </tr>\n    <tr>\n      <th>3</th>\n      <td>Aguascalientes</td>\n      <td>Mexico</td>\n      <td>6581</td>\n      <td>555</td>\n      <td>5783</td>\n      <td>243.0</td>\n      <td>458.722950</td>\n      <td>8.433369</td>\n    </tr>\n    <tr>\n      <th>4</th>\n      <td>Aichi</td>\n      <td>Japan</td>\n      <td>5077</td>\n      <td>79</td>\n      <td>4554</td>\n      <td>444.0</td>\n      <td>67.225097</td>\n      <td>1.556037</td>\n    </tr>\n    <tr>\n      <th>...</th>\n      <td>...</td>\n      <td>...</td>\n      <td>...</td>\n      <td>...</td>\n      <td>...</td>\n      <td>...</td>\n      <td>...</td>\n      <td>...</td>\n    </tr>\n    <tr>\n      <th>569</th>\n      <td>Zaporizhia Oblast</td>\n      <td>Ukraine</td>\n      <td>2829</td>\n      <td>42</td>\n      <td>1075</td>\n      <td>1712.0</td>\n      <td>165.842437</td>\n      <td>1.484624</td>\n    </tr>\n    <tr>\n      <th>570</th>\n      <td>Zeeland</td>\n      <td>Netherlands</td>\n      <td>1210</td>\n      <td>72</td>\n      <td>0</td>\n      <td>1138.0</td>\n      <td>315.524866</td>\n      <td>5.950413</td>\n    </tr>\n    <tr>\n      <th>571</th>\n      <td>Zhejiang</td>\n      <td>China</td>\n      <td>1282</td>\n      <td>1</td>\n      <td>1272</td>\n      <td>9.0</td>\n      <td>2.234617</td>\n      <td>0.078003</td>\n    </tr>\n    <tr>\n      <th>572</th>\n      <td>Zhytomyr Oblast</td>\n      <td>Ukraine</td>\n      <td>4931</td>\n      <td>90</td>\n      <td>2379</td>\n      <td>2462.0</td>\n      <td>404.116398</td>\n      <td>1.825188</td>\n    </tr>\n    <tr>\n      <th>573</th>\n      <td>Zuid-Holland</td>\n      <td>Netherlands</td>\n      <td>26644</td>\n      <td>1364</td>\n      <td>0</td>\n      <td>25280.0</td>\n      <td>718.419628</td>\n      <td>5.119351</td>\n    </tr>\n  </tbody>\n</table>\n<p>574 rows × 8 columns</p>\n</div>"
     },
     "execution_count": 247,
     "metadata": {},
     "output_type": "execute_result"
    }
   ],
   "source": [
    "# aggregate the location dataset\n",
    "AGG_MAP = {'Confirmed': 'sum',\n",
    "           'Deaths': 'sum',\n",
    "           'Recovered': 'sum',\n",
    "           'Active': 'sum',\n",
    "           'Incidence_Rate': 'mean',\n",
    "           'Case-Fatality_Ratio' : 'mean'}\n",
    "location_data = location_data.groupby(['Province_State', 'Country_Region']).agg(AGG_MAP)\n",
    "location_data.reset_index()\n"
   ],
   "metadata": {
    "collapsed": false,
    "pycharm": {
     "name": "#%%\n"
    }
   }
  },
  {
   "cell_type": "code",
   "execution_count": 248,
   "outputs": [],
   "source": [
    "# location_data.loc[location_data['Country_Region'] == 'US']\n"
   ],
   "metadata": {
    "collapsed": false,
    "pycharm": {
     "name": "#%%\n"
    }
   }
  },
  {
   "cell_type": "code",
   "execution_count": 249,
   "outputs": [],
   "source": [
    "location_data.to_csv(path_or_buf='../data/aggregated_location.csv', index=True)\n",
    "train_data.to_csv(path_or_buf='../data/clean_cases_train.csv', index=True)\n"
   ],
   "metadata": {
    "collapsed": false,
    "pycharm": {
     "name": "#%%\n"
    }
   }
  },
  {
   "cell_type": "code",
   "execution_count": 250,
   "outputs": [
    {
     "ename": "KeyError",
     "evalue": "'province'",
     "output_type": "error",
     "traceback": [
      "\u001B[0;31m---------------------------------------------------------------------------\u001B[0m",
      "\u001B[0;31mKeyError\u001B[0m                                  Traceback (most recent call last)",
      "\u001B[0;32m~/GitHubRes/CMPT459/venv/lib/python3.6/site-packages/pandas/core/indexes/base.py\u001B[0m in \u001B[0;36mget_loc\u001B[0;34m(self, key, method, tolerance)\u001B[0m\n\u001B[1;32m   2897\u001B[0m             \u001B[0;32mtry\u001B[0m\u001B[0;34m:\u001B[0m\u001B[0;34m\u001B[0m\u001B[0;34m\u001B[0m\u001B[0m\n\u001B[0;32m-> 2898\u001B[0;31m                 \u001B[0;32mreturn\u001B[0m \u001B[0mself\u001B[0m\u001B[0;34m.\u001B[0m\u001B[0m_engine\u001B[0m\u001B[0;34m.\u001B[0m\u001B[0mget_loc\u001B[0m\u001B[0;34m(\u001B[0m\u001B[0mcasted_key\u001B[0m\u001B[0;34m)\u001B[0m\u001B[0;34m\u001B[0m\u001B[0;34m\u001B[0m\u001B[0m\n\u001B[0m\u001B[1;32m   2899\u001B[0m             \u001B[0;32mexcept\u001B[0m \u001B[0mKeyError\u001B[0m \u001B[0;32mas\u001B[0m \u001B[0merr\u001B[0m\u001B[0;34m:\u001B[0m\u001B[0;34m\u001B[0m\u001B[0;34m\u001B[0m\u001B[0m\n",
      "\u001B[0;32mpandas/_libs/index.pyx\u001B[0m in \u001B[0;36mpandas._libs.index.IndexEngine.get_loc\u001B[0;34m()\u001B[0m\n",
      "\u001B[0;32mpandas/_libs/index.pyx\u001B[0m in \u001B[0;36mpandas._libs.index.IndexEngine.get_loc\u001B[0;34m()\u001B[0m\n",
      "\u001B[0;32mpandas/_libs/hashtable_class_helper.pxi\u001B[0m in \u001B[0;36mpandas._libs.hashtable.PyObjectHashTable.get_item\u001B[0;34m()\u001B[0m\n",
      "\u001B[0;32mpandas/_libs/hashtable_class_helper.pxi\u001B[0m in \u001B[0;36mpandas._libs.hashtable.PyObjectHashTable.get_item\u001B[0;34m()\u001B[0m\n",
      "\u001B[0;31mKeyError\u001B[0m: 'province'",
      "\nThe above exception was the direct cause of the following exception:\n",
      "\u001B[0;31mKeyError\u001B[0m                                  Traceback (most recent call last)",
      "\u001B[0;32m<ipython-input-250-6861c847a759>\u001B[0m in \u001B[0;36m<module>\u001B[0;34m\u001B[0m\n\u001B[1;32m     12\u001B[0m \u001B[0;34m\u001B[0m\u001B[0m\n\u001B[1;32m     13\u001B[0m \u001B[0mtrain_data\u001B[0m\u001B[0;34m[\u001B[0m\u001B[0;34m'Combined_Key'\u001B[0m\u001B[0;34m]\u001B[0m \u001B[0;34m=\u001B[0m \u001B[0mtrain_data\u001B[0m\u001B[0;34m.\u001B[0m\u001B[0mapply\u001B[0m \u001B[0;34m(\u001B[0m\u001B[0;32mlambda\u001B[0m \u001B[0mrow\u001B[0m\u001B[0;34m:\u001B[0m \u001B[0mgenerate_combined_key\u001B[0m\u001B[0;34m(\u001B[0m\u001B[0mrow\u001B[0m\u001B[0;34m)\u001B[0m\u001B[0;34m,\u001B[0m \u001B[0maxis\u001B[0m\u001B[0;34m=\u001B[0m\u001B[0;36m1\u001B[0m\u001B[0;34m)\u001B[0m\u001B[0;34m\u001B[0m\u001B[0;34m\u001B[0m\u001B[0m\n\u001B[0;32m---> 14\u001B[0;31m \u001B[0mlocation_data\u001B[0m\u001B[0;34m[\u001B[0m\u001B[0;34m'Combined_Key'\u001B[0m\u001B[0;34m]\u001B[0m \u001B[0;34m=\u001B[0m \u001B[0mlocation_data\u001B[0m\u001B[0;34m.\u001B[0m\u001B[0mapply\u001B[0m \u001B[0;34m(\u001B[0m\u001B[0;32mlambda\u001B[0m \u001B[0mrow\u001B[0m\u001B[0;34m:\u001B[0m \u001B[0mgenerate_combined_key\u001B[0m\u001B[0;34m(\u001B[0m\u001B[0mrow\u001B[0m\u001B[0;34m)\u001B[0m\u001B[0;34m,\u001B[0m \u001B[0maxis\u001B[0m\u001B[0;34m=\u001B[0m\u001B[0;36m1\u001B[0m\u001B[0;34m)\u001B[0m\u001B[0;34m\u001B[0m\u001B[0;34m\u001B[0m\u001B[0m\n\u001B[0m\u001B[1;32m     15\u001B[0m \u001B[0;31m# join the two dataset\u001B[0m\u001B[0;34m\u001B[0m\u001B[0;34m\u001B[0m\u001B[0;34m\u001B[0m\u001B[0m\n\u001B[1;32m     16\u001B[0m \u001B[0mtrain_data\u001B[0m\u001B[0;34m.\u001B[0m\u001B[0mto_csv\u001B[0m\u001B[0;34m(\u001B[0m\u001B[0mpath_or_buf\u001B[0m\u001B[0;34m=\u001B[0m\u001B[0;34m'../data/clean_cases_train_with_key.csv'\u001B[0m\u001B[0;34m,\u001B[0m \u001B[0mindex\u001B[0m\u001B[0;34m=\u001B[0m\u001B[0;32mFalse\u001B[0m\u001B[0;34m)\u001B[0m\u001B[0;34m\u001B[0m\u001B[0;34m\u001B[0m\u001B[0m\n",
      "\u001B[0;32m~/GitHubRes/CMPT459/venv/lib/python3.6/site-packages/pandas/core/frame.py\u001B[0m in \u001B[0;36mapply\u001B[0;34m(self, func, axis, raw, result_type, args, **kwds)\u001B[0m\n\u001B[1;32m   7550\u001B[0m             \u001B[0mkwds\u001B[0m\u001B[0;34m=\u001B[0m\u001B[0mkwds\u001B[0m\u001B[0;34m,\u001B[0m\u001B[0;34m\u001B[0m\u001B[0;34m\u001B[0m\u001B[0m\n\u001B[1;32m   7551\u001B[0m         )\n\u001B[0;32m-> 7552\u001B[0;31m         \u001B[0;32mreturn\u001B[0m \u001B[0mop\u001B[0m\u001B[0;34m.\u001B[0m\u001B[0mget_result\u001B[0m\u001B[0;34m(\u001B[0m\u001B[0;34m)\u001B[0m\u001B[0;34m\u001B[0m\u001B[0;34m\u001B[0m\u001B[0m\n\u001B[0m\u001B[1;32m   7553\u001B[0m \u001B[0;34m\u001B[0m\u001B[0m\n\u001B[1;32m   7554\u001B[0m     \u001B[0;32mdef\u001B[0m \u001B[0mapplymap\u001B[0m\u001B[0;34m(\u001B[0m\u001B[0mself\u001B[0m\u001B[0;34m,\u001B[0m \u001B[0mfunc\u001B[0m\u001B[0;34m)\u001B[0m \u001B[0;34m->\u001B[0m \u001B[0;34m\"DataFrame\"\u001B[0m\u001B[0;34m:\u001B[0m\u001B[0;34m\u001B[0m\u001B[0;34m\u001B[0m\u001B[0m\n",
      "\u001B[0;32m~/GitHubRes/CMPT459/venv/lib/python3.6/site-packages/pandas/core/apply.py\u001B[0m in \u001B[0;36mget_result\u001B[0;34m(self)\u001B[0m\n\u001B[1;32m    183\u001B[0m             \u001B[0;32mreturn\u001B[0m \u001B[0mself\u001B[0m\u001B[0;34m.\u001B[0m\u001B[0mapply_raw\u001B[0m\u001B[0;34m(\u001B[0m\u001B[0;34m)\u001B[0m\u001B[0;34m\u001B[0m\u001B[0;34m\u001B[0m\u001B[0m\n\u001B[1;32m    184\u001B[0m \u001B[0;34m\u001B[0m\u001B[0m\n\u001B[0;32m--> 185\u001B[0;31m         \u001B[0;32mreturn\u001B[0m \u001B[0mself\u001B[0m\u001B[0;34m.\u001B[0m\u001B[0mapply_standard\u001B[0m\u001B[0;34m(\u001B[0m\u001B[0;34m)\u001B[0m\u001B[0;34m\u001B[0m\u001B[0;34m\u001B[0m\u001B[0m\n\u001B[0m\u001B[1;32m    186\u001B[0m \u001B[0;34m\u001B[0m\u001B[0m\n\u001B[1;32m    187\u001B[0m     \u001B[0;32mdef\u001B[0m \u001B[0mapply_empty_result\u001B[0m\u001B[0;34m(\u001B[0m\u001B[0mself\u001B[0m\u001B[0;34m)\u001B[0m\u001B[0;34m:\u001B[0m\u001B[0;34m\u001B[0m\u001B[0;34m\u001B[0m\u001B[0m\n",
      "\u001B[0;32m~/GitHubRes/CMPT459/venv/lib/python3.6/site-packages/pandas/core/apply.py\u001B[0m in \u001B[0;36mapply_standard\u001B[0;34m(self)\u001B[0m\n\u001B[1;32m    274\u001B[0m \u001B[0;34m\u001B[0m\u001B[0m\n\u001B[1;32m    275\u001B[0m     \u001B[0;32mdef\u001B[0m \u001B[0mapply_standard\u001B[0m\u001B[0;34m(\u001B[0m\u001B[0mself\u001B[0m\u001B[0;34m)\u001B[0m\u001B[0;34m:\u001B[0m\u001B[0;34m\u001B[0m\u001B[0;34m\u001B[0m\u001B[0m\n\u001B[0;32m--> 276\u001B[0;31m         \u001B[0mresults\u001B[0m\u001B[0;34m,\u001B[0m \u001B[0mres_index\u001B[0m \u001B[0;34m=\u001B[0m \u001B[0mself\u001B[0m\u001B[0;34m.\u001B[0m\u001B[0mapply_series_generator\u001B[0m\u001B[0;34m(\u001B[0m\u001B[0;34m)\u001B[0m\u001B[0;34m\u001B[0m\u001B[0;34m\u001B[0m\u001B[0m\n\u001B[0m\u001B[1;32m    277\u001B[0m \u001B[0;34m\u001B[0m\u001B[0m\n\u001B[1;32m    278\u001B[0m         \u001B[0;31m# wrap results\u001B[0m\u001B[0;34m\u001B[0m\u001B[0;34m\u001B[0m\u001B[0;34m\u001B[0m\u001B[0m\n",
      "\u001B[0;32m~/GitHubRes/CMPT459/venv/lib/python3.6/site-packages/pandas/core/apply.py\u001B[0m in \u001B[0;36mapply_series_generator\u001B[0;34m(self)\u001B[0m\n\u001B[1;32m    303\u001B[0m                 \u001B[0;32mfor\u001B[0m \u001B[0mi\u001B[0m\u001B[0;34m,\u001B[0m \u001B[0mv\u001B[0m \u001B[0;32min\u001B[0m \u001B[0menumerate\u001B[0m\u001B[0;34m(\u001B[0m\u001B[0mseries_gen\u001B[0m\u001B[0;34m)\u001B[0m\u001B[0;34m:\u001B[0m\u001B[0;34m\u001B[0m\u001B[0;34m\u001B[0m\u001B[0m\n\u001B[1;32m    304\u001B[0m                     \u001B[0;31m# ignore SettingWithCopy here in case the user mutates\u001B[0m\u001B[0;34m\u001B[0m\u001B[0;34m\u001B[0m\u001B[0;34m\u001B[0m\u001B[0m\n\u001B[0;32m--> 305\u001B[0;31m                     \u001B[0mresults\u001B[0m\u001B[0;34m[\u001B[0m\u001B[0mi\u001B[0m\u001B[0;34m]\u001B[0m \u001B[0;34m=\u001B[0m \u001B[0mself\u001B[0m\u001B[0;34m.\u001B[0m\u001B[0mf\u001B[0m\u001B[0;34m(\u001B[0m\u001B[0mv\u001B[0m\u001B[0;34m)\u001B[0m\u001B[0;34m\u001B[0m\u001B[0;34m\u001B[0m\u001B[0m\n\u001B[0m\u001B[1;32m    306\u001B[0m                     \u001B[0;32mif\u001B[0m \u001B[0misinstance\u001B[0m\u001B[0;34m(\u001B[0m\u001B[0mresults\u001B[0m\u001B[0;34m[\u001B[0m\u001B[0mi\u001B[0m\u001B[0;34m]\u001B[0m\u001B[0;34m,\u001B[0m \u001B[0mABCSeries\u001B[0m\u001B[0;34m)\u001B[0m\u001B[0;34m:\u001B[0m\u001B[0;34m\u001B[0m\u001B[0;34m\u001B[0m\u001B[0m\n\u001B[1;32m    307\u001B[0m                         \u001B[0;31m# If we have a view on v, we need to make a copy because\u001B[0m\u001B[0;34m\u001B[0m\u001B[0;34m\u001B[0m\u001B[0;34m\u001B[0m\u001B[0m\n",
      "\u001B[0;32m<ipython-input-250-6861c847a759>\u001B[0m in \u001B[0;36m<lambda>\u001B[0;34m(row)\u001B[0m\n\u001B[1;32m     12\u001B[0m \u001B[0;34m\u001B[0m\u001B[0m\n\u001B[1;32m     13\u001B[0m \u001B[0mtrain_data\u001B[0m\u001B[0;34m[\u001B[0m\u001B[0;34m'Combined_Key'\u001B[0m\u001B[0;34m]\u001B[0m \u001B[0;34m=\u001B[0m \u001B[0mtrain_data\u001B[0m\u001B[0;34m.\u001B[0m\u001B[0mapply\u001B[0m \u001B[0;34m(\u001B[0m\u001B[0;32mlambda\u001B[0m \u001B[0mrow\u001B[0m\u001B[0;34m:\u001B[0m \u001B[0mgenerate_combined_key\u001B[0m\u001B[0;34m(\u001B[0m\u001B[0mrow\u001B[0m\u001B[0;34m)\u001B[0m\u001B[0;34m,\u001B[0m \u001B[0maxis\u001B[0m\u001B[0;34m=\u001B[0m\u001B[0;36m1\u001B[0m\u001B[0;34m)\u001B[0m\u001B[0;34m\u001B[0m\u001B[0;34m\u001B[0m\u001B[0m\n\u001B[0;32m---> 14\u001B[0;31m \u001B[0mlocation_data\u001B[0m\u001B[0;34m[\u001B[0m\u001B[0;34m'Combined_Key'\u001B[0m\u001B[0;34m]\u001B[0m \u001B[0;34m=\u001B[0m \u001B[0mlocation_data\u001B[0m\u001B[0;34m.\u001B[0m\u001B[0mapply\u001B[0m \u001B[0;34m(\u001B[0m\u001B[0;32mlambda\u001B[0m \u001B[0mrow\u001B[0m\u001B[0;34m:\u001B[0m \u001B[0mgenerate_combined_key\u001B[0m\u001B[0;34m(\u001B[0m\u001B[0mrow\u001B[0m\u001B[0;34m)\u001B[0m\u001B[0;34m,\u001B[0m \u001B[0maxis\u001B[0m\u001B[0;34m=\u001B[0m\u001B[0;36m1\u001B[0m\u001B[0;34m)\u001B[0m\u001B[0;34m\u001B[0m\u001B[0;34m\u001B[0m\u001B[0m\n\u001B[0m\u001B[1;32m     15\u001B[0m \u001B[0;31m# join the two dataset\u001B[0m\u001B[0;34m\u001B[0m\u001B[0;34m\u001B[0m\u001B[0;34m\u001B[0m\u001B[0m\n\u001B[1;32m     16\u001B[0m \u001B[0mtrain_data\u001B[0m\u001B[0;34m.\u001B[0m\u001B[0mto_csv\u001B[0m\u001B[0;34m(\u001B[0m\u001B[0mpath_or_buf\u001B[0m\u001B[0;34m=\u001B[0m\u001B[0;34m'../data/clean_cases_train_with_key.csv'\u001B[0m\u001B[0;34m,\u001B[0m \u001B[0mindex\u001B[0m\u001B[0;34m=\u001B[0m\u001B[0;32mFalse\u001B[0m\u001B[0;34m)\u001B[0m\u001B[0;34m\u001B[0m\u001B[0;34m\u001B[0m\u001B[0m\n",
      "\u001B[0;32m<ipython-input-250-6861c847a759>\u001B[0m in \u001B[0;36mgenerate_combined_key\u001B[0;34m(row)\u001B[0m\n\u001B[1;32m      1\u001B[0m \u001B[0;31m# add a combination key column in train dataset\u001B[0m\u001B[0;34m\u001B[0m\u001B[0;34m\u001B[0m\u001B[0;34m\u001B[0m\u001B[0m\n\u001B[1;32m      2\u001B[0m \u001B[0;32mdef\u001B[0m \u001B[0mgenerate_combined_key\u001B[0m\u001B[0;34m(\u001B[0m\u001B[0mrow\u001B[0m\u001B[0;34m)\u001B[0m\u001B[0;34m:\u001B[0m\u001B[0;34m\u001B[0m\u001B[0;34m\u001B[0m\u001B[0m\n\u001B[0;32m----> 3\u001B[0;31m     \u001B[0;32mif\u001B[0m \u001B[0mpd\u001B[0m\u001B[0;34m.\u001B[0m\u001B[0misnull\u001B[0m\u001B[0;34m(\u001B[0m\u001B[0mrow\u001B[0m\u001B[0;34m[\u001B[0m\u001B[0;34m'province'\u001B[0m\u001B[0;34m]\u001B[0m\u001B[0;34m)\u001B[0m\u001B[0;34m:\u001B[0m\u001B[0;34m\u001B[0m\u001B[0;34m\u001B[0m\u001B[0m\n\u001B[0m\u001B[1;32m      4\u001B[0m         \u001B[0;32mreturn\u001B[0m \u001B[0mrow\u001B[0m\u001B[0;34m[\u001B[0m\u001B[0;34m'country'\u001B[0m\u001B[0;34m]\u001B[0m\u001B[0;34m\u001B[0m\u001B[0;34m\u001B[0m\u001B[0m\n\u001B[1;32m      5\u001B[0m     \u001B[0;32melse\u001B[0m\u001B[0;34m:\u001B[0m\u001B[0;34m\u001B[0m\u001B[0;34m\u001B[0m\u001B[0m\n",
      "\u001B[0;32m~/GitHubRes/CMPT459/venv/lib/python3.6/site-packages/pandas/core/series.py\u001B[0m in \u001B[0;36m__getitem__\u001B[0;34m(self, key)\u001B[0m\n\u001B[1;32m    880\u001B[0m \u001B[0;34m\u001B[0m\u001B[0m\n\u001B[1;32m    881\u001B[0m         \u001B[0;32melif\u001B[0m \u001B[0mkey_is_scalar\u001B[0m\u001B[0;34m:\u001B[0m\u001B[0;34m\u001B[0m\u001B[0;34m\u001B[0m\u001B[0m\n\u001B[0;32m--> 882\u001B[0;31m             \u001B[0;32mreturn\u001B[0m \u001B[0mself\u001B[0m\u001B[0;34m.\u001B[0m\u001B[0m_get_value\u001B[0m\u001B[0;34m(\u001B[0m\u001B[0mkey\u001B[0m\u001B[0;34m)\u001B[0m\u001B[0;34m\u001B[0m\u001B[0;34m\u001B[0m\u001B[0m\n\u001B[0m\u001B[1;32m    883\u001B[0m \u001B[0;34m\u001B[0m\u001B[0m\n\u001B[1;32m    884\u001B[0m         \u001B[0;32mif\u001B[0m \u001B[0mis_hashable\u001B[0m\u001B[0;34m(\u001B[0m\u001B[0mkey\u001B[0m\u001B[0;34m)\u001B[0m\u001B[0;34m:\u001B[0m\u001B[0;34m\u001B[0m\u001B[0;34m\u001B[0m\u001B[0m\n",
      "\u001B[0;32m~/GitHubRes/CMPT459/venv/lib/python3.6/site-packages/pandas/core/series.py\u001B[0m in \u001B[0;36m_get_value\u001B[0;34m(self, label, takeable)\u001B[0m\n\u001B[1;32m    988\u001B[0m \u001B[0;34m\u001B[0m\u001B[0m\n\u001B[1;32m    989\u001B[0m         \u001B[0;31m# Similar to Index.get_value, but we do not fall back to positional\u001B[0m\u001B[0;34m\u001B[0m\u001B[0;34m\u001B[0m\u001B[0;34m\u001B[0m\u001B[0m\n\u001B[0;32m--> 990\u001B[0;31m         \u001B[0mloc\u001B[0m \u001B[0;34m=\u001B[0m \u001B[0mself\u001B[0m\u001B[0;34m.\u001B[0m\u001B[0mindex\u001B[0m\u001B[0;34m.\u001B[0m\u001B[0mget_loc\u001B[0m\u001B[0;34m(\u001B[0m\u001B[0mlabel\u001B[0m\u001B[0;34m)\u001B[0m\u001B[0;34m\u001B[0m\u001B[0;34m\u001B[0m\u001B[0m\n\u001B[0m\u001B[1;32m    991\u001B[0m         \u001B[0;32mreturn\u001B[0m \u001B[0mself\u001B[0m\u001B[0;34m.\u001B[0m\u001B[0mindex\u001B[0m\u001B[0;34m.\u001B[0m\u001B[0m_get_values_for_loc\u001B[0m\u001B[0;34m(\u001B[0m\u001B[0mself\u001B[0m\u001B[0;34m,\u001B[0m \u001B[0mloc\u001B[0m\u001B[0;34m,\u001B[0m \u001B[0mlabel\u001B[0m\u001B[0;34m)\u001B[0m\u001B[0;34m\u001B[0m\u001B[0;34m\u001B[0m\u001B[0m\n\u001B[1;32m    992\u001B[0m \u001B[0;34m\u001B[0m\u001B[0m\n",
      "\u001B[0;32m~/GitHubRes/CMPT459/venv/lib/python3.6/site-packages/pandas/core/indexes/base.py\u001B[0m in \u001B[0;36mget_loc\u001B[0;34m(self, key, method, tolerance)\u001B[0m\n\u001B[1;32m   2898\u001B[0m                 \u001B[0;32mreturn\u001B[0m \u001B[0mself\u001B[0m\u001B[0;34m.\u001B[0m\u001B[0m_engine\u001B[0m\u001B[0;34m.\u001B[0m\u001B[0mget_loc\u001B[0m\u001B[0;34m(\u001B[0m\u001B[0mcasted_key\u001B[0m\u001B[0;34m)\u001B[0m\u001B[0;34m\u001B[0m\u001B[0;34m\u001B[0m\u001B[0m\n\u001B[1;32m   2899\u001B[0m             \u001B[0;32mexcept\u001B[0m \u001B[0mKeyError\u001B[0m \u001B[0;32mas\u001B[0m \u001B[0merr\u001B[0m\u001B[0;34m:\u001B[0m\u001B[0;34m\u001B[0m\u001B[0;34m\u001B[0m\u001B[0m\n\u001B[0;32m-> 2900\u001B[0;31m                 \u001B[0;32mraise\u001B[0m \u001B[0mKeyError\u001B[0m\u001B[0;34m(\u001B[0m\u001B[0mkey\u001B[0m\u001B[0;34m)\u001B[0m \u001B[0;32mfrom\u001B[0m \u001B[0merr\u001B[0m\u001B[0;34m\u001B[0m\u001B[0;34m\u001B[0m\u001B[0m\n\u001B[0m\u001B[1;32m   2901\u001B[0m \u001B[0;34m\u001B[0m\u001B[0m\n\u001B[1;32m   2902\u001B[0m         \u001B[0;32mif\u001B[0m \u001B[0mtolerance\u001B[0m \u001B[0;32mis\u001B[0m \u001B[0;32mnot\u001B[0m \u001B[0;32mNone\u001B[0m\u001B[0;34m:\u001B[0m\u001B[0;34m\u001B[0m\u001B[0;34m\u001B[0m\u001B[0m\n",
      "\u001B[0;31mKeyError\u001B[0m: 'province'"
     ]
    }
   ],
   "source": [
    "# add a combination key column in train dataset\n",
    "def generate_combined_key(row):\n",
    "    if pd.isnull(row['province']):\n",
    "        return row['country']\n",
    "    else:\n",
    "        return str(row['province']) + ', ' + row['country']\n",
    "def generate_combined_key2(row):\n",
    "    if pd.isnull(row['Province_State']):\n",
    "        return row['Country_Region']\n",
    "    else:\n",
    "        return str(row['Province_State']) + ', ' + row['Country_Region']\n",
    "\n",
    "train_data['Combined_Key'] = train_data.apply (lambda row: generate_combined_key(row), axis=1)\n",
    "location_data['Combined_Key'] = location_data.apply (lambda row: generate_combined_key(row), axis=1)\n",
    "# join the two dataset\n",
    "train_data.to_csv(path_or_buf='../data/clean_cases_train_with_key.csv', index=False)"
   ],
   "metadata": {
    "collapsed": false,
    "pycharm": {
     "name": "#%%\n"
    }
   }
  },
  {
   "cell_type": "code",
   "execution_count": null,
   "outputs": [],
   "source": [
    "# join the two  dataset\n",
    "\n",
    "after_join = pd.merge(train_data, location_data, how='left', on=['Combined_Key'])\n",
    "after_join.isnull().sum().sort_values(ascending = False)"
   ],
   "metadata": {
    "collapsed": false,
    "pycharm": {
     "name": "#%%\n"
    }
   }
  }
 ],
 "metadata": {
  "kernelspec": {
   "display_name": "Python 3",
   "language": "python",
   "name": "python3"
  },
  "language_info": {
   "codemirror_mode": {
    "name": "ipython",
    "version": 2
   },
   "file_extension": ".py",
   "mimetype": "text/x-python",
   "name": "python",
   "nbconvert_exporter": "python",
   "pygments_lexer": "ipython2",
   "version": "2.7.6"
  }
 },
 "nbformat": 4,
 "nbformat_minor": 0
}